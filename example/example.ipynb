{
 "cells": [
  {
   "cell_type": "markdown",
   "id": "b45fcf60-ede1-4afd-bc42-138825668a38",
   "metadata": {},
   "source": [
    "# Write LOLCODE in a jupyter notebook!"
   ]
  },
  {
   "cell_type": "code",
   "execution_count": 1,
   "id": "569b8245-5229-413c-9bb9-9c433ca24dab",
   "metadata": {
    "tags": []
   },
   "outputs": [
    {
     "name": "stdout",
     "output_type": "stream",
     "text": [
      "HAI WORLD!\n"
     ]
    }
   ],
   "source": [
    "HAI 1.2\n",
    "CAN HAS STDIO?\n",
    "VISIBLE \"HAI WORLD!\"\n",
    "KTHXBYE"
   ]
  },
  {
   "cell_type": "code",
   "execution_count": 4,
   "id": "7c97f3e9-37e0-424c-8975-7e9615c112ed",
   "metadata": {
    "tags": []
   },
   "outputs": [
    {
     "name": "stdout",
     "output_type": "stream",
     "text": [
      "1\n",
      "2\n",
      "3\n",
      "4\n",
      "5\n",
      "6\n",
      "7\n",
      "8\n",
      "9\n",
      "10\n"
     ]
    }
   ],
   "source": [
    "HAI 1.2\n",
    "CAN HAS STDIO?\n",
    "IM IN YR LOOP UPPIN YR VAR TIL BOTH SAEM VAR AN 10\n",
    "    VISIBLE SUM OF VAR AN 1\n",
    "IM OUTTA YR LOOP\n",
    "KTHXBYE"
   ]
  },
  {
   "cell_type": "code",
   "execution_count": 5,
   "id": "8f51f1c3-b903-43e5-ad64-357bd86d709b",
   "metadata": {
    "tags": []
   },
   "outputs": [
    {
     "name": "stdout",
     "output_type": "stream",
     "text": [
      "U SEE THIS\n",
      "U SEE THIS\n"
     ]
    }
   ],
   "source": [
    "HAI 1.0\n",
    "CAN HAS STDIO?\n",
    "VISIBLE \"U SEE THIS\"\n",
    "\n",
    "BTW VISIBLE \"U SEE NOTHING\"\n",
    "\n",
    "OBTW\n",
    "VISIBLE \"U SEE NOTHIN\"\n",
    "VISIBLE \"U STIL SEE NOTHIN\"\n",
    "TLDR\n",
    "\n",
    "VISIBLE \"U SEE THIS\"\n",
    "KTHXBYE"
   ]
  }
 ],
 "metadata": {
  "kernelspec": {
   "display_name": "LOLCODE",
   "language": "",
   "name": "janslolcodekernel"
  },
  "language_info": {
   "file_extension": ".lc",
   "mimetype": "application/lolcode",
   "name": "lolcode"
  }
 },
 "nbformat": 4,
 "nbformat_minor": 5
}
